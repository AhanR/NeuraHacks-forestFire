{
  "nbformat": 4,
  "nbformat_minor": 0,
  "metadata": {
    "colab": {
      "name": "forest fire.ipynb",
      "provenance": [],
      "collapsed_sections": [],
      "authorship_tag": "ABX9TyO1nyTe4lmt8v/P+W2oRk3E",
      "include_colab_link": true
    },
    "kernelspec": {
      "name": "python3",
      "display_name": "Python 3"
    },
    "language_info": {
      "name": "python"
    },
    "accelerator": "GPU",
    "gpuClass": "standard"
  },
  "cells": [
    {
      "cell_type": "markdown",
      "metadata": {
        "id": "view-in-github",
        "colab_type": "text"
      },
      "source": [
        "<a href=\"https://colab.research.google.com/github/AhanR/NeuraHacks-forestFire/blob/main/forest_fire.ipynb\" target=\"_parent\"><img src=\"https://colab.research.google.com/assets/colab-badge.svg\" alt=\"Open In Colab\"/></a>"
      ]
    },
    {
      "cell_type": "markdown",
      "source": [
        "# **Detecting the area of the forest fire based on FWI system indices**\n"
      ],
      "metadata": {
        "id": "hTZtPDq4hK7R"
      }
    },
    {
      "cell_type": "code",
      "execution_count": 31,
      "metadata": {
        "id": "cH6r3UX-5fK7"
      },
      "outputs": [],
      "source": [
        "import pandas as pd\n",
        "forestFireData = pd.read_csv(\"forestfires.csv\")"
      ]
    },
    {
      "cell_type": "markdown",
      "source": [
        "Create a new dataframe without any extra data such as X,Y coords, date, temperature and rain levels(in this col the data was insufficient so we dropped it)"
      ],
      "metadata": {
        "id": "v0z6_UIlheqt"
      }
    },
    {
      "cell_type": "code",
      "source": [
        "fireAreaData = forestFireData\n",
        "fireAreaData = fireAreaData.drop(fireAreaData.index[fireAreaData[\"area\"] == 0])\n",
        "del fireAreaData[\"X\"], fireAreaData[\"Y\"], fireAreaData[\"month\"], fireAreaData[\"temp\"], fireAreaData[\"rain\"], fireAreaData[\"day\"]"
      ],
      "metadata": {
        "id": "9QmFAeSz66-t"
      },
      "execution_count": 32,
      "outputs": []
    },
    {
      "cell_type": "code",
      "source": [
        "display(fireAreaData)"
      ],
      "metadata": {
        "colab": {
          "base_uri": "https://localhost:8080/",
          "height": 424
        },
        "id": "wTC46QIt_po1",
        "outputId": "6325f3ed-0bc3-4d81-84ba-4ac1e8b68ce0"
      },
      "execution_count": 33,
      "outputs": [
        {
          "output_type": "display_data",
          "data": {
            "text/plain": [
              "     FFMC    DMC     DC   ISI  RH  wind   area\n",
              "138  85.8   48.3  313.4   3.9  42   2.7   0.36\n",
              "139  91.0  129.5  692.6   7.0  38   2.2   0.43\n",
              "140  90.9  126.5  686.5   7.0  39   1.8   0.47\n",
              "141  95.5   99.9  513.3  13.2  31   4.5   0.55\n",
              "142  90.1  108.0  529.8  12.5  51   8.9   0.61\n",
              "..    ...    ...    ...   ...  ..   ...    ...\n",
              "509  91.0  166.9  752.6   7.1  71   7.6   2.17\n",
              "510  91.0  166.9  752.6   7.1  62   5.4   0.43\n",
              "512  81.6   56.7  665.6   1.9  32   2.7   6.44\n",
              "513  81.6   56.7  665.6   1.9  71   5.8  54.29\n",
              "514  81.6   56.7  665.6   1.9  70   6.7  11.16\n",
              "\n",
              "[270 rows x 7 columns]"
            ],
            "text/html": [
              "\n",
              "  <div id=\"df-24aa5bed-fd90-4c2b-ad78-f572404f67e7\">\n",
              "    <div class=\"colab-df-container\">\n",
              "      <div>\n",
              "<style scoped>\n",
              "    .dataframe tbody tr th:only-of-type {\n",
              "        vertical-align: middle;\n",
              "    }\n",
              "\n",
              "    .dataframe tbody tr th {\n",
              "        vertical-align: top;\n",
              "    }\n",
              "\n",
              "    .dataframe thead th {\n",
              "        text-align: right;\n",
              "    }\n",
              "</style>\n",
              "<table border=\"1\" class=\"dataframe\">\n",
              "  <thead>\n",
              "    <tr style=\"text-align: right;\">\n",
              "      <th></th>\n",
              "      <th>FFMC</th>\n",
              "      <th>DMC</th>\n",
              "      <th>DC</th>\n",
              "      <th>ISI</th>\n",
              "      <th>RH</th>\n",
              "      <th>wind</th>\n",
              "      <th>area</th>\n",
              "    </tr>\n",
              "  </thead>\n",
              "  <tbody>\n",
              "    <tr>\n",
              "      <th>138</th>\n",
              "      <td>85.8</td>\n",
              "      <td>48.3</td>\n",
              "      <td>313.4</td>\n",
              "      <td>3.9</td>\n",
              "      <td>42</td>\n",
              "      <td>2.7</td>\n",
              "      <td>0.36</td>\n",
              "    </tr>\n",
              "    <tr>\n",
              "      <th>139</th>\n",
              "      <td>91.0</td>\n",
              "      <td>129.5</td>\n",
              "      <td>692.6</td>\n",
              "      <td>7.0</td>\n",
              "      <td>38</td>\n",
              "      <td>2.2</td>\n",
              "      <td>0.43</td>\n",
              "    </tr>\n",
              "    <tr>\n",
              "      <th>140</th>\n",
              "      <td>90.9</td>\n",
              "      <td>126.5</td>\n",
              "      <td>686.5</td>\n",
              "      <td>7.0</td>\n",
              "      <td>39</td>\n",
              "      <td>1.8</td>\n",
              "      <td>0.47</td>\n",
              "    </tr>\n",
              "    <tr>\n",
              "      <th>141</th>\n",
              "      <td>95.5</td>\n",
              "      <td>99.9</td>\n",
              "      <td>513.3</td>\n",
              "      <td>13.2</td>\n",
              "      <td>31</td>\n",
              "      <td>4.5</td>\n",
              "      <td>0.55</td>\n",
              "    </tr>\n",
              "    <tr>\n",
              "      <th>142</th>\n",
              "      <td>90.1</td>\n",
              "      <td>108.0</td>\n",
              "      <td>529.8</td>\n",
              "      <td>12.5</td>\n",
              "      <td>51</td>\n",
              "      <td>8.9</td>\n",
              "      <td>0.61</td>\n",
              "    </tr>\n",
              "    <tr>\n",
              "      <th>...</th>\n",
              "      <td>...</td>\n",
              "      <td>...</td>\n",
              "      <td>...</td>\n",
              "      <td>...</td>\n",
              "      <td>...</td>\n",
              "      <td>...</td>\n",
              "      <td>...</td>\n",
              "    </tr>\n",
              "    <tr>\n",
              "      <th>509</th>\n",
              "      <td>91.0</td>\n",
              "      <td>166.9</td>\n",
              "      <td>752.6</td>\n",
              "      <td>7.1</td>\n",
              "      <td>71</td>\n",
              "      <td>7.6</td>\n",
              "      <td>2.17</td>\n",
              "    </tr>\n",
              "    <tr>\n",
              "      <th>510</th>\n",
              "      <td>91.0</td>\n",
              "      <td>166.9</td>\n",
              "      <td>752.6</td>\n",
              "      <td>7.1</td>\n",
              "      <td>62</td>\n",
              "      <td>5.4</td>\n",
              "      <td>0.43</td>\n",
              "    </tr>\n",
              "    <tr>\n",
              "      <th>512</th>\n",
              "      <td>81.6</td>\n",
              "      <td>56.7</td>\n",
              "      <td>665.6</td>\n",
              "      <td>1.9</td>\n",
              "      <td>32</td>\n",
              "      <td>2.7</td>\n",
              "      <td>6.44</td>\n",
              "    </tr>\n",
              "    <tr>\n",
              "      <th>513</th>\n",
              "      <td>81.6</td>\n",
              "      <td>56.7</td>\n",
              "      <td>665.6</td>\n",
              "      <td>1.9</td>\n",
              "      <td>71</td>\n",
              "      <td>5.8</td>\n",
              "      <td>54.29</td>\n",
              "    </tr>\n",
              "    <tr>\n",
              "      <th>514</th>\n",
              "      <td>81.6</td>\n",
              "      <td>56.7</td>\n",
              "      <td>665.6</td>\n",
              "      <td>1.9</td>\n",
              "      <td>70</td>\n",
              "      <td>6.7</td>\n",
              "      <td>11.16</td>\n",
              "    </tr>\n",
              "  </tbody>\n",
              "</table>\n",
              "<p>270 rows × 7 columns</p>\n",
              "</div>\n",
              "      <button class=\"colab-df-convert\" onclick=\"convertToInteractive('df-24aa5bed-fd90-4c2b-ad78-f572404f67e7')\"\n",
              "              title=\"Convert this dataframe to an interactive table.\"\n",
              "              style=\"display:none;\">\n",
              "        \n",
              "  <svg xmlns=\"http://www.w3.org/2000/svg\" height=\"24px\"viewBox=\"0 0 24 24\"\n",
              "       width=\"24px\">\n",
              "    <path d=\"M0 0h24v24H0V0z\" fill=\"none\"/>\n",
              "    <path d=\"M18.56 5.44l.94 2.06.94-2.06 2.06-.94-2.06-.94-.94-2.06-.94 2.06-2.06.94zm-11 1L8.5 8.5l.94-2.06 2.06-.94-2.06-.94L8.5 2.5l-.94 2.06-2.06.94zm10 10l.94 2.06.94-2.06 2.06-.94-2.06-.94-.94-2.06-.94 2.06-2.06.94z\"/><path d=\"M17.41 7.96l-1.37-1.37c-.4-.4-.92-.59-1.43-.59-.52 0-1.04.2-1.43.59L10.3 9.45l-7.72 7.72c-.78.78-.78 2.05 0 2.83L4 21.41c.39.39.9.59 1.41.59.51 0 1.02-.2 1.41-.59l7.78-7.78 2.81-2.81c.8-.78.8-2.07 0-2.86zM5.41 20L4 18.59l7.72-7.72 1.47 1.35L5.41 20z\"/>\n",
              "  </svg>\n",
              "      </button>\n",
              "      \n",
              "  <style>\n",
              "    .colab-df-container {\n",
              "      display:flex;\n",
              "      flex-wrap:wrap;\n",
              "      gap: 12px;\n",
              "    }\n",
              "\n",
              "    .colab-df-convert {\n",
              "      background-color: #E8F0FE;\n",
              "      border: none;\n",
              "      border-radius: 50%;\n",
              "      cursor: pointer;\n",
              "      display: none;\n",
              "      fill: #1967D2;\n",
              "      height: 32px;\n",
              "      padding: 0 0 0 0;\n",
              "      width: 32px;\n",
              "    }\n",
              "\n",
              "    .colab-df-convert:hover {\n",
              "      background-color: #E2EBFA;\n",
              "      box-shadow: 0px 1px 2px rgba(60, 64, 67, 0.3), 0px 1px 3px 1px rgba(60, 64, 67, 0.15);\n",
              "      fill: #174EA6;\n",
              "    }\n",
              "\n",
              "    [theme=dark] .colab-df-convert {\n",
              "      background-color: #3B4455;\n",
              "      fill: #D2E3FC;\n",
              "    }\n",
              "\n",
              "    [theme=dark] .colab-df-convert:hover {\n",
              "      background-color: #434B5C;\n",
              "      box-shadow: 0px 1px 3px 1px rgba(0, 0, 0, 0.15);\n",
              "      filter: drop-shadow(0px 1px 2px rgba(0, 0, 0, 0.3));\n",
              "      fill: #FFFFFF;\n",
              "    }\n",
              "  </style>\n",
              "\n",
              "      <script>\n",
              "        const buttonEl =\n",
              "          document.querySelector('#df-24aa5bed-fd90-4c2b-ad78-f572404f67e7 button.colab-df-convert');\n",
              "        buttonEl.style.display =\n",
              "          google.colab.kernel.accessAllowed ? 'block' : 'none';\n",
              "\n",
              "        async function convertToInteractive(key) {\n",
              "          const element = document.querySelector('#df-24aa5bed-fd90-4c2b-ad78-f572404f67e7');\n",
              "          const dataTable =\n",
              "            await google.colab.kernel.invokeFunction('convertToInteractive',\n",
              "                                                     [key], {});\n",
              "          if (!dataTable) return;\n",
              "\n",
              "          const docLinkHtml = 'Like what you see? Visit the ' +\n",
              "            '<a target=\"_blank\" href=https://colab.research.google.com/notebooks/data_table.ipynb>data table notebook</a>'\n",
              "            + ' to learn more about interactive tables.';\n",
              "          element.innerHTML = '';\n",
              "          dataTable['output_type'] = 'display_data';\n",
              "          await google.colab.output.renderOutput(dataTable, element);\n",
              "          const docLink = document.createElement('div');\n",
              "          docLink.innerHTML = docLinkHtml;\n",
              "          element.appendChild(docLink);\n",
              "        }\n",
              "      </script>\n",
              "    </div>\n",
              "  </div>\n",
              "  "
            ]
          },
          "metadata": {}
        }
      ]
    },
    {
      "cell_type": "markdown",
      "source": [
        "Normalising the input and output values for better training results"
      ],
      "metadata": {
        "id": "qAZl7RJQh1WV"
      }
    },
    {
      "cell_type": "code",
      "source": [
        "high = fireAreaData.max(axis = 0)\n",
        "low = fireAreaData.min(axis = 0)\n",
        "fireAreaData[\"area\"] = ((fireAreaData[\"area\"]) - low[\"area\"])/high[\"area\"]\n",
        "fireAreaData[\"FFMC\"] = ((fireAreaData[\"FFMC\"]) - 18.70)/77.5\n",
        "fireAreaData[\"wind\"] = ((fireAreaData[\"wind\"]) - 0.40)/9\n",
        "fireAreaData[\"RH\"] = ((fireAreaData[\"RH\"]) - 15)/85\n",
        "fireAreaData[\"DMC\"] = ((fireAreaData[\"DMC\"]) - 1.1)/290.2\n",
        "fireAreaData[\"DC\"] = ((fireAreaData[\"DC\"]) - 7.9)/852.7\n",
        "fireAreaData[\"ISI\"] = (fireAreaData[\"ISI\"])/56.1"
      ],
      "metadata": {
        "id": "GiUfVSsXNaNr"
      },
      "execution_count": 34,
      "outputs": []
    },
    {
      "cell_type": "code",
      "source": [
        "x = fireAreaData.drop('area', axis = 1)\n",
        "y = fireAreaData[\"area\"]\n",
        "from sklearn.model_selection import train_test_split\n",
        "x_train, x_test, y_train, y_test = train_test_split(x, y,test_size = 0.15,random_state = 24, shuffle = True)\n",
        "display(x_train, y_train)"
      ],
      "metadata": {
        "id": "csBzFZQz_vWa",
        "colab": {
          "base_uri": "https://localhost:8080/",
          "height": 632
        },
        "outputId": "ababbebb-7782-496c-f279-b02d90cfea53"
      },
      "execution_count": 35,
      "outputs": [
        {
          "output_type": "display_data",
          "data": {
            "text/plain": [
              "         FFMC       DMC        DC       ISI        RH      wind\n",
              "199  0.578065  0.240179  0.770963  0.014260  0.270588  0.355556\n",
              "189  0.929032  0.147829  0.099097  0.098039  0.529412  0.400000\n",
              "484  0.983226  0.445210  0.679254  0.251337  0.117647  0.400000\n",
              "178  0.921290  0.281875  0.853524  0.110517  0.352941  0.200000\n",
              "284  0.858065  0.013094  0.009265  0.112299  0.364706  0.844444\n",
              "..        ...       ...       ...       ...       ...       ...\n",
              "411  0.850323  0.007236  0.041867  0.058824  0.447059  1.000000\n",
              "270  0.947097  0.522054  0.762636  0.254902  0.482353  0.300000\n",
              "276  0.860645  0.083735  0.400844  0.046346  0.070588  0.900000\n",
              "311  0.950968  0.360786  0.879794  0.176471  0.152941  0.155556\n",
              "384  0.940645  0.939697  0.951331  0.137255  0.341176  0.455556\n",
              "\n",
              "[229 rows x 6 columns]"
            ],
            "text/html": [
              "\n",
              "  <div id=\"df-8cb95b67-2e5f-4942-8745-8116e2634fc2\">\n",
              "    <div class=\"colab-df-container\">\n",
              "      <div>\n",
              "<style scoped>\n",
              "    .dataframe tbody tr th:only-of-type {\n",
              "        vertical-align: middle;\n",
              "    }\n",
              "\n",
              "    .dataframe tbody tr th {\n",
              "        vertical-align: top;\n",
              "    }\n",
              "\n",
              "    .dataframe thead th {\n",
              "        text-align: right;\n",
              "    }\n",
              "</style>\n",
              "<table border=\"1\" class=\"dataframe\">\n",
              "  <thead>\n",
              "    <tr style=\"text-align: right;\">\n",
              "      <th></th>\n",
              "      <th>FFMC</th>\n",
              "      <th>DMC</th>\n",
              "      <th>DC</th>\n",
              "      <th>ISI</th>\n",
              "      <th>RH</th>\n",
              "      <th>wind</th>\n",
              "    </tr>\n",
              "  </thead>\n",
              "  <tbody>\n",
              "    <tr>\n",
              "      <th>199</th>\n",
              "      <td>0.578065</td>\n",
              "      <td>0.240179</td>\n",
              "      <td>0.770963</td>\n",
              "      <td>0.014260</td>\n",
              "      <td>0.270588</td>\n",
              "      <td>0.355556</td>\n",
              "    </tr>\n",
              "    <tr>\n",
              "      <th>189</th>\n",
              "      <td>0.929032</td>\n",
              "      <td>0.147829</td>\n",
              "      <td>0.099097</td>\n",
              "      <td>0.098039</td>\n",
              "      <td>0.529412</td>\n",
              "      <td>0.400000</td>\n",
              "    </tr>\n",
              "    <tr>\n",
              "      <th>484</th>\n",
              "      <td>0.983226</td>\n",
              "      <td>0.445210</td>\n",
              "      <td>0.679254</td>\n",
              "      <td>0.251337</td>\n",
              "      <td>0.117647</td>\n",
              "      <td>0.400000</td>\n",
              "    </tr>\n",
              "    <tr>\n",
              "      <th>178</th>\n",
              "      <td>0.921290</td>\n",
              "      <td>0.281875</td>\n",
              "      <td>0.853524</td>\n",
              "      <td>0.110517</td>\n",
              "      <td>0.352941</td>\n",
              "      <td>0.200000</td>\n",
              "    </tr>\n",
              "    <tr>\n",
              "      <th>284</th>\n",
              "      <td>0.858065</td>\n",
              "      <td>0.013094</td>\n",
              "      <td>0.009265</td>\n",
              "      <td>0.112299</td>\n",
              "      <td>0.364706</td>\n",
              "      <td>0.844444</td>\n",
              "    </tr>\n",
              "    <tr>\n",
              "      <th>...</th>\n",
              "      <td>...</td>\n",
              "      <td>...</td>\n",
              "      <td>...</td>\n",
              "      <td>...</td>\n",
              "      <td>...</td>\n",
              "      <td>...</td>\n",
              "    </tr>\n",
              "    <tr>\n",
              "      <th>411</th>\n",
              "      <td>0.850323</td>\n",
              "      <td>0.007236</td>\n",
              "      <td>0.041867</td>\n",
              "      <td>0.058824</td>\n",
              "      <td>0.447059</td>\n",
              "      <td>1.000000</td>\n",
              "    </tr>\n",
              "    <tr>\n",
              "      <th>270</th>\n",
              "      <td>0.947097</td>\n",
              "      <td>0.522054</td>\n",
              "      <td>0.762636</td>\n",
              "      <td>0.254902</td>\n",
              "      <td>0.482353</td>\n",
              "      <td>0.300000</td>\n",
              "    </tr>\n",
              "    <tr>\n",
              "      <th>276</th>\n",
              "      <td>0.860645</td>\n",
              "      <td>0.083735</td>\n",
              "      <td>0.400844</td>\n",
              "      <td>0.046346</td>\n",
              "      <td>0.070588</td>\n",
              "      <td>0.900000</td>\n",
              "    </tr>\n",
              "    <tr>\n",
              "      <th>311</th>\n",
              "      <td>0.950968</td>\n",
              "      <td>0.360786</td>\n",
              "      <td>0.879794</td>\n",
              "      <td>0.176471</td>\n",
              "      <td>0.152941</td>\n",
              "      <td>0.155556</td>\n",
              "    </tr>\n",
              "    <tr>\n",
              "      <th>384</th>\n",
              "      <td>0.940645</td>\n",
              "      <td>0.939697</td>\n",
              "      <td>0.951331</td>\n",
              "      <td>0.137255</td>\n",
              "      <td>0.341176</td>\n",
              "      <td>0.455556</td>\n",
              "    </tr>\n",
              "  </tbody>\n",
              "</table>\n",
              "<p>229 rows × 6 columns</p>\n",
              "</div>\n",
              "      <button class=\"colab-df-convert\" onclick=\"convertToInteractive('df-8cb95b67-2e5f-4942-8745-8116e2634fc2')\"\n",
              "              title=\"Convert this dataframe to an interactive table.\"\n",
              "              style=\"display:none;\">\n",
              "        \n",
              "  <svg xmlns=\"http://www.w3.org/2000/svg\" height=\"24px\"viewBox=\"0 0 24 24\"\n",
              "       width=\"24px\">\n",
              "    <path d=\"M0 0h24v24H0V0z\" fill=\"none\"/>\n",
              "    <path d=\"M18.56 5.44l.94 2.06.94-2.06 2.06-.94-2.06-.94-.94-2.06-.94 2.06-2.06.94zm-11 1L8.5 8.5l.94-2.06 2.06-.94-2.06-.94L8.5 2.5l-.94 2.06-2.06.94zm10 10l.94 2.06.94-2.06 2.06-.94-2.06-.94-.94-2.06-.94 2.06-2.06.94z\"/><path d=\"M17.41 7.96l-1.37-1.37c-.4-.4-.92-.59-1.43-.59-.52 0-1.04.2-1.43.59L10.3 9.45l-7.72 7.72c-.78.78-.78 2.05 0 2.83L4 21.41c.39.39.9.59 1.41.59.51 0 1.02-.2 1.41-.59l7.78-7.78 2.81-2.81c.8-.78.8-2.07 0-2.86zM5.41 20L4 18.59l7.72-7.72 1.47 1.35L5.41 20z\"/>\n",
              "  </svg>\n",
              "      </button>\n",
              "      \n",
              "  <style>\n",
              "    .colab-df-container {\n",
              "      display:flex;\n",
              "      flex-wrap:wrap;\n",
              "      gap: 12px;\n",
              "    }\n",
              "\n",
              "    .colab-df-convert {\n",
              "      background-color: #E8F0FE;\n",
              "      border: none;\n",
              "      border-radius: 50%;\n",
              "      cursor: pointer;\n",
              "      display: none;\n",
              "      fill: #1967D2;\n",
              "      height: 32px;\n",
              "      padding: 0 0 0 0;\n",
              "      width: 32px;\n",
              "    }\n",
              "\n",
              "    .colab-df-convert:hover {\n",
              "      background-color: #E2EBFA;\n",
              "      box-shadow: 0px 1px 2px rgba(60, 64, 67, 0.3), 0px 1px 3px 1px rgba(60, 64, 67, 0.15);\n",
              "      fill: #174EA6;\n",
              "    }\n",
              "\n",
              "    [theme=dark] .colab-df-convert {\n",
              "      background-color: #3B4455;\n",
              "      fill: #D2E3FC;\n",
              "    }\n",
              "\n",
              "    [theme=dark] .colab-df-convert:hover {\n",
              "      background-color: #434B5C;\n",
              "      box-shadow: 0px 1px 3px 1px rgba(0, 0, 0, 0.15);\n",
              "      filter: drop-shadow(0px 1px 2px rgba(0, 0, 0, 0.3));\n",
              "      fill: #FFFFFF;\n",
              "    }\n",
              "  </style>\n",
              "\n",
              "      <script>\n",
              "        const buttonEl =\n",
              "          document.querySelector('#df-8cb95b67-2e5f-4942-8745-8116e2634fc2 button.colab-df-convert');\n",
              "        buttonEl.style.display =\n",
              "          google.colab.kernel.accessAllowed ? 'block' : 'none';\n",
              "\n",
              "        async function convertToInteractive(key) {\n",
              "          const element = document.querySelector('#df-8cb95b67-2e5f-4942-8745-8116e2634fc2');\n",
              "          const dataTable =\n",
              "            await google.colab.kernel.invokeFunction('convertToInteractive',\n",
              "                                                     [key], {});\n",
              "          if (!dataTable) return;\n",
              "\n",
              "          const docLinkHtml = 'Like what you see? Visit the ' +\n",
              "            '<a target=\"_blank\" href=https://colab.research.google.com/notebooks/data_table.ipynb>data table notebook</a>'\n",
              "            + ' to learn more about interactive tables.';\n",
              "          element.innerHTML = '';\n",
              "          dataTable['output_type'] = 'display_data';\n",
              "          await google.colab.output.renderOutput(dataTable, element);\n",
              "          const docLink = document.createElement('div');\n",
              "          docLink.innerHTML = docLinkHtml;\n",
              "          element.appendChild(docLink);\n",
              "        }\n",
              "      </script>\n",
              "    </div>\n",
              "  </div>\n",
              "  "
            ]
          },
          "metadata": {}
        },
        {
          "output_type": "display_data",
          "data": {
            "text/plain": [
              "199    0.010295\n",
              "189    0.007471\n",
              "484    0.024147\n",
              "178    0.004391\n",
              "284    0.022139\n",
              "         ...   \n",
              "411    0.004153\n",
              "270    0.000394\n",
              "276    0.016281\n",
              "311    0.013017\n",
              "384    0.011083\n",
              "Name: area, Length: 229, dtype: float64"
            ]
          },
          "metadata": {}
        }
      ]
    },
    {
      "cell_type": "markdown",
      "source": [
        "Compiling the model and testing it for accuracy"
      ],
      "metadata": {
        "id": "iIunJGTziDT1"
      }
    },
    {
      "cell_type": "code",
      "source": [
        "import tensorflow as tf\n",
        "from tensorflow import keras\n",
        "from tensorflow.keras import layers\n",
        "\n",
        "input_shape = [x_train.shape[1]]\n",
        "\n",
        "model =  keras.Sequential([\n",
        "    layers.Dense(32, activation = 'relu', input_shape=input_shape),\n",
        "    layers.Dense(16, activation = 'relu', name=\"layer_2\"),\n",
        "    layers.Dense(1, activation = 'relu', name=\"layer_out\")\n",
        "])"
      ],
      "metadata": {
        "id": "0ds6nLPCPCSL"
      },
      "execution_count": 36,
      "outputs": []
    },
    {
      "cell_type": "code",
      "source": [
        "model.summary()"
      ],
      "metadata": {
        "colab": {
          "base_uri": "https://localhost:8080/"
        },
        "id": "oJws8Lqffkwt",
        "outputId": "206668fc-3687-41d1-cf74-ab98c416eed0"
      },
      "execution_count": 37,
      "outputs": [
        {
          "output_type": "stream",
          "name": "stdout",
          "text": [
            "Model: \"sequential_3\"\n",
            "_________________________________________________________________\n",
            " Layer (type)                Output Shape              Param #   \n",
            "=================================================================\n",
            " dense_3 (Dense)             (None, 32)                224       \n",
            "                                                                 \n",
            " layer_2 (Dense)             (None, 16)                528       \n",
            "                                                                 \n",
            " layer_out (Dense)           (None, 1)                 17        \n",
            "                                                                 \n",
            "=================================================================\n",
            "Total params: 769\n",
            "Trainable params: 769\n",
            "Non-trainable params: 0\n",
            "_________________________________________________________________\n"
          ]
        }
      ]
    },
    {
      "cell_type": "code",
      "source": [
        "model.compile(optimizer=\"adam\", loss=\"mae\")"
      ],
      "metadata": {
        "id": "Dkdo7YDOfQOl"
      },
      "execution_count": 38,
      "outputs": []
    },
    {
      "cell_type": "code",
      "source": [
        "losses = model.fit(x_train, y_train,\n",
        "                   validation_data=(x_test, y_test),\n",
        "                   batch_size=16,\n",
        "                   epochs=8)"
      ],
      "metadata": {
        "colab": {
          "base_uri": "https://localhost:8080/"
        },
        "id": "OgZFUeHmdAAf",
        "outputId": "da17e12f-0af8-4349-d6eb-e092b6768fa5"
      },
      "execution_count": 42,
      "outputs": [
        {
          "output_type": "stream",
          "name": "stdout",
          "text": [
            "Epoch 1/8\n",
            "15/15 [==============================] - 0s 7ms/step - loss: 0.0238 - val_loss: 0.0152\n",
            "Epoch 2/8\n",
            "15/15 [==============================] - 0s 4ms/step - loss: 0.0238 - val_loss: 0.0152\n",
            "Epoch 3/8\n",
            "15/15 [==============================] - 0s 4ms/step - loss: 0.0238 - val_loss: 0.0152\n",
            "Epoch 4/8\n",
            "15/15 [==============================] - 0s 4ms/step - loss: 0.0238 - val_loss: 0.0152\n",
            "Epoch 5/8\n",
            "15/15 [==============================] - 0s 4ms/step - loss: 0.0238 - val_loss: 0.0152\n",
            "Epoch 6/8\n",
            "15/15 [==============================] - 0s 4ms/step - loss: 0.0238 - val_loss: 0.0152\n",
            "Epoch 7/8\n",
            "15/15 [==============================] - 0s 4ms/step - loss: 0.0238 - val_loss: 0.0152\n",
            "Epoch 8/8\n",
            "15/15 [==============================] - 0s 4ms/step - loss: 0.0238 - val_loss: 0.0152\n"
          ]
        }
      ]
    },
    {
      "cell_type": "code",
      "source": [
        "loss_df = pd.DataFrame(losses.history)\n",
        "loss_df.loc[:,['loss','val_loss']].plot()"
      ],
      "metadata": {
        "colab": {
          "base_uri": "https://localhost:8080/",
          "height": 282
        },
        "id": "rEl72HQkfLlK",
        "outputId": "0267a363-c96b-4504-aa6d-4376289470f6"
      },
      "execution_count": 40,
      "outputs": [
        {
          "output_type": "execute_result",
          "data": {
            "text/plain": [
              "<matplotlib.axes._subplots.AxesSubplot at 0x7f572a33bc10>"
            ]
          },
          "metadata": {},
          "execution_count": 40
        },
        {
          "output_type": "display_data",
          "data": {
            "text/plain": [
              "<Figure size 432x288 with 1 Axes>"
            ],
            "image/png": "[encoded data removed]"
          },
          "metadata": {
            "needs_background": "light"
          }
        }
      ]
    },
    {
      "cell_type": "code",
      "source": [
        "score = model.evaluate(x_test, y_test, verbose = 0)\n",
        "print(\"testing accuracy has reached : \" , score)"
      ],
      "metadata": {
        "colab": {
          "base_uri": "https://localhost:8080/"
        },
        "id": "kCduc0iHhEmh",
        "outputId": "7ba4ef9e-8e99-4a6a-ea35-b0a8e97f8495"
      },
      "execution_count": 44,
      "outputs": [
        {
          "output_type": "stream",
          "name": "stdout",
          "text": [
            "testing accuracy has reached :  0.015188341028988361\n"
          ]
        }
      ]
    }
  ]
}